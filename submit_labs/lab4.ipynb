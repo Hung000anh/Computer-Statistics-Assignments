{
 "cells": [
  {
   "cell_type": "markdown",
   "metadata": {},
   "source": [
    "# Bài tập"
   ]
  },
  {
   "cell_type": "markdown",
   "metadata": {},
   "source": [
    "**Bài 01:** Một bài thi trắc nghiệm gồm 10 câu hỏi, mỗi câu có 4 phương án trả lời trong đó chỉ có một phương án đúng. Bạn hãy: \n",
    "\n",
    "a. Một sinh viên không học bài làm bài bằng cách chọn ngẫu nhiên một phương án cho mỗi câu hỏi. Bạn hãy dùng hàm random để in ra số câu đúng của bạn sinh viên trong 10 lần kiểm tra.\n",
    "\n",
    "b. Giả sử mỗi câu đúng được 4 điểm, mỗi câu sai bị trừ 2 điểm. Tính xác suất để sinh viên này được 4 điểm\n",
    "\n",
    "c. Gọi X là số câu trả lời đúng. Tính E(X) và Var(X)"
   ]
  },
  {
   "cell_type": "code",
   "execution_count": 2,
   "metadata": {},
   "outputs": [],
   "source": [
    "#buil library\n",
    "import numpy as np\n",
    "import pandas as pd\n",
    "import matplotlib.pyplot as plt\n",
    "\n",
    "# Import các distribution packages từ thư viện scipy\n",
    "from scipy.stats import bernoulli\n",
    "from scipy.stats import binom\n",
    "from scipy.stats import poisson\n",
    "from scipy.stats import norm\n",
    "from scipy.stats import t"
   ]
  },
  {
   "cell_type": "code",
   "execution_count": 5,
   "metadata": {},
   "outputs": [],
   "source": [
    "import numpy as np;\n",
    "#Một bài thi trắc nghiệm gồm 10 câu hỏi, \n",
    "# mỗi câu có 4 phương án trả lời trong đó chỉ có một phương án đúng\n",
    "n =  10\n",
    "x = 4 \n",
    "p = 0.25  #10 đáp án đúng với xác xuất 1 câu hỏi là 25%"
   ]
  },
  {
   "cell_type": "code",
   "execution_count": 6,
   "metadata": {},
   "outputs": [
    {
     "name": "stdout",
     "output_type": "stream",
     "text": [
      "Kết quả đúng: [3 1 0 2 1 1 1 2 0 2 2 2 3 1 1 2 0 0 0 0 0 1 2 1 2 1 1 1 1 1 1 1 0 0 1 1 1\n",
      " 2 2 1]\n",
      "Bài làm của sinh viên: [2 1 1 2 1 1 0 2 2 1 1 0 0 2 1 0 1 1 1 0 1 0 1 1 1 1 1 2 0 2 0 1 1 3 2 1 2\n",
      " 1 1 0]\n",
      "Số câu đúng của sinh viên không làm bài chọn ngẫu nhiên: 12\n"
     ]
    }
   ],
   "source": [
    "# a. Một sinh viên không học bài làm bài bằng cách chọn ngẫu nhiên\n",
    "# một phương án cho mỗi câu hỏi. Bạn hãy dùng hàm random để in ra \n",
    "# số câu đúng của bạn sinh viên trong 10 lần kiểm tra.\n",
    "# sinh ngẫu nhiên kết quả của bài làm\n",
    "bai_lam = binom(x, p).rvs(size=n)\n",
    "# print('Bài làm của sinh viên:', bai_lam)\n",
    "\n",
    "# sinh ngẫu nhiên kết quả đúng\n",
    "result = binom(x, p).rvs(size=n)\n",
    "# print('Kết quả đúng:', result)\n",
    "bai_lam10 = binom(x, p).rvs(size=n*4)\n",
    "result10 = binom(x, p).rvs(size=n*4)\n",
    "# đếm số câu đúng của sinh viên\n",
    "print('Kết quả đúng:', result10)\n",
    "print('Bài làm của sinh viên:', bai_lam10)\n",
    "right_test = np.sum(bai_lam == result)\n",
    "right_test10 = np.sum(bai_lam10 == result10)\n",
    "print('Số câu đúng của sinh viên không làm bài chọn ngẫu nhiên:', right_test10)\n"
   ]
  },
  {
   "cell_type": "code",
   "execution_count": 8,
   "metadata": {},
   "outputs": [
    {
     "name": "stdout",
     "output_type": "stream",
     "text": [
      "Xác suất để sinh viên được 4 điểm trong bài kiểm tra trắc nghiệm là: 18.77117156982422 %\n"
     ]
    }
   ],
   "source": [
    "# b. Giả sử mỗi câu đúng được 4 điểm, mỗi câu sai bị trừ 2 điểm. \n",
    "# Tính xác suất để sinh viên này được 4 điểm\n",
    "# Cách để trả lời đúng chính xác 1 trong 10 câu hỏi là: C(10, 1) = 10\n",
    "import math\n",
    "C = math.comb(10,1)\n",
    "# Xác suất để trả lời đúng câu hỏi đó là 1/4, và xác suất để trả lời sai các câu hỏi còn lại là (3/4)^9.\n",
    "Truee = 1/4\n",
    "Falsee = 3/4\n",
    "# Vậy xác suất để sinh viên được 4 điểm trong bài kiểm tra trắc nghiệm là:\n",
    "p4_diem = C * Truee**1 * Falsee**9\n",
    "print('Xác suất để sinh viên được 4 điểm trong bài kiểm tra trắc nghiệm là: ' + str(p4_diem*100) +\" %\")"
   ]
  },
  {
   "cell_type": "code",
   "execution_count": 7,
   "metadata": {},
   "outputs": [
    {
     "name": "stdout",
     "output_type": "stream",
     "text": [
      "E(x) = 3.0\n",
      "Var(x) = 2.0999999999999996\n"
     ]
    }
   ],
   "source": [
    "# c. Gọi X là số câu trả lời đúng. Tính E(X) và Var(X)\n",
    "summary = n\n",
    "Probability = (right_test/summary) \n",
    "print(\"E(x) = \"+ str(binom.mean(10,Probability)))\n",
    "print(\"Var(x) = \" + str(binom.var(10,Probability)))\n"
   ]
  },
  {
   "cell_type": "markdown",
   "metadata": {},
   "source": [
    "**Bài 02:** Một trung tâm bưu điện nhận được 3 cuộc gọi điện thoại mỗi phút. Tính xác suất để trung tâm nhận được 1 cuộc gọi, 2 cuộc gọi, 3 cuộc gọi trong vòng một phút biết số cuộc gọi trong một phút có phân phối Poisson."
   ]
  },
  {
   "cell_type": "code",
   "execution_count": 5,
   "metadata": {},
   "outputs": [
    {
     "name": "stdout",
     "output_type": "stream",
     "text": [
      "P(X = 1) = 0.1494\n",
      "P(X = 2) = 0.2240\n",
      "P(X = 3) = 0.2240\n",
      "Tổng xác suất các trường hợp = 0.5974\n"
     ]
    }
   ],
   "source": [
    "from scipy.stats import poisson\n",
    "\n",
    "lambda_ = 3 # trung bình số cuộc gọi trong một phút\n",
    "\n",
    "# Tính xác suất để trung tâm nhận được 1 cuộc gọi trong vòng một phút\n",
    "prob_1_call = poisson.pmf(1, lambda_)\n",
    "print(f\"P(X = 1) = {prob_1_call:.4f}\")\n",
    "\n",
    "# Tính xác suất để trung tâm nhận được 2 cuộc gọi trong vòng một phút\n",
    "prob_2_calls = poisson.pmf(2, lambda_)\n",
    "print(f\"P(X = 2) = {prob_2_calls:.4f}\")\n",
    "\n",
    "# Tính xác suất để trung tâm nhận được 3 cuộc gọi trong vòng một phút\n",
    "prob_3_calls = poisson.pmf(3, lambda_)\n",
    "print(f\"P(X = 3) = {prob_3_calls:.4f}\")\n",
    "\n",
    "# Kiểm tra tổng xác suất của các trường hợp\n",
    "total_prob = prob_1_call + prob_2_calls + prob_3_calls\n",
    "print(f\"Tổng xác suất các trường hợp = {total_prob:.4f}\")\n"
   ]
  },
  {
   "attachments": {},
   "cell_type": "markdown",
   "metadata": {},
   "source": [
    "**Bài 03:** Trọng lượng (đơn vị gam) của một loại trái cây có phân phối chuẩn với µ = 500 (gam) gam và $σ^2 = 16 (gam^2)$. Trái cây thu hoạch được phân loại theo trọng lượng như sau:\n",
    "\n",
    "Loại 1: trên 505 gam\n",
    "\n",
    "Loại 2: từ 495 – 505 gam\n",
    "\n",
    "Loại 3: dười 495 gam\n",
    "\n",
    "a. Hãy tính tỷ lệ của mỗi loại.\n",
    "\n",
    "b. Bạn hãy mô phỏng lấy mẫu  20 trái cây trên. Bạn hãy vẽ histogram trọng lượng trái cây và tính giá trị trung bình và độ lệch chuẩn trái cây từ mẫu\n",
    "c. Bạn hãy mô phỏng lấy 100 trái cây trên. Bạn hãy vẽ histogram trọng lượng trái cây và tính giá trị trung bình và độ lệch chuẩn trái cây từ mẫu\n",
    "d. Từ hai cách lấy mẫu ở câu b, c bạn có nhận xét gì không?"
   ]
  },
  {
   "cell_type": "code",
   "execution_count": 8,
   "metadata": {},
   "outputs": [
    {
     "name": "stdout",
     "output_type": "stream",
     "text": [
      "Tỷ lệ của loại 1: 10.56%\n",
      "Tỷ lệ của loại 1: 78.87%\n",
      "Tỷ lệ của loại 1: 10.56%\n"
     ]
    }
   ],
   "source": [
    "# a. Hãy tính tỷ lệ của mỗi loại.a. Hãy tính tỷ lệ của mỗi loại.\n",
    "from scipy.stats import norm\n",
    "\n",
    "u = 500 #phân phối chuẩn\n",
    "o = 4 #Phương sai o^2 =16 -> o = 4 (độ lệch chuẩn)\n",
    "\n",
    "# tính xác suất P1(X > 505)\n",
    "p_type_1 = 1 - norm.cdf(505, loc=u, scale=o)\n",
    "\n",
    "print(f\"Tỷ lệ của loại 1: {p_type_1:.2%}\")\n",
    "\n",
    "#tính xác xuất P2(495-505)\n",
    "p_type_2 = norm.cdf(505, loc=u, scale=o) - norm.cdf(495, loc=u, scale=o)\n",
    "print(f\"Tỷ lệ của loại 1: {p_type_2:.2%}\")\n",
    "\n",
    "#tính xác xuất P3(<495)\n",
    "p_type_3 = norm.cdf(495, loc=u, scale=o)\n",
    "print(f\"Tỷ lệ của loại 1: {p_type_3:.2%}\")"
   ]
  },
  {
   "cell_type": "code",
   "execution_count": 10,
   "metadata": {},
   "outputs": [
    {
     "name": "stdout",
     "output_type": "stream",
     "text": [
      "Giá trị trung bình trên mẫu: 500.04 gam\n",
      "Độ lệch chuẩn trên mẫu: 5.00 gam\n"
     ]
    },
    {
     "data": {
      "image/png": "[encoded data removed]",
      "text/plain": [
       "<Figure size 640x480 with 1 Axes>"
      ]
     },
     "metadata": {},
     "output_type": "display_data"
    }
   ],
   "source": [
    "#b. Bạn hãy mô phỏng lấy mẫu  20 trái cây trên.\n",
    "#  Bạn hãy vẽ histogram trọng lượng trái cây và tính giá trị \n",
    "# trung bình và độ lệch chuẩn trái cây từ mẫu\n",
    "import numpy as np\n",
    "import matplotlib.pyplot as plt\n",
    "\n",
    "np.random.seed(42)  # khởi tạo seed cho tính tái reproducibility\n",
    "mu, sigma = 500, 4  # trung bình và độ lệch chuẩn của phân phối chuẩn\n",
    "n = 20  # kích thước mẫu\n",
    "\n",
    "# mô phỏng lấy mẫu và vẽ histogram\n",
    "data = np.random.normal(mu, sigma, size=10000)  # sinh ra 10000 điểm dữ liệu\n",
    "sample = np.random.choice(data, size=n)  # lấy mẫu ngẫu nhiên 20 phần tử từ 10000 điểm dữ liệu\n",
    "\n",
    "plt.hist(sample, bins=10, edgecolor='black')\n",
    "plt.xlabel(\"Trọng lượng (gam)\")\n",
    "plt.ylabel(\"Số lượng\")\n",
    "plt.title(\"Histogram trọng lượng 20 trái cây\")\n",
    "\n",
    "# tính giá trị trung bình và độ lệch chuẩn trên mẫu\n",
    "sample_mean = np.mean(sample)\n",
    "sample_std = np.std(sample, ddof=1)  # sử dụng ddof=1 để tính độ lệch chuẩn mẫu\n",
    "print(f\"Giá trị trung bình trên mẫu: {sample_mean:.2f} gam\")\n",
    "print(f\"Độ lệch chuẩn trên mẫu: {sample_std:.2f} gam\")\n"
   ]
  },
  {
   "cell_type": "code",
   "execution_count": 16,
   "metadata": {},
   "outputs": [
    {
     "name": "stdout",
     "output_type": "stream",
     "text": [
      "Giá trị trung bình trên mẫu: 500.25 gam\n",
      "Độ lệch chuẩn trên mẫu: 3.91 gam\n"
     ]
    },
    {
     "data": {
      "image/png": "[encoded data removed]",
      "text/plain": [
       "<Figure size 640x480 with 1 Axes>"
      ]
     },
     "metadata": {},
     "output_type": "display_data"
    }
   ],
   "source": [
    "#c. Bạn hãy mô phỏng lấy mẫu  100 trái cây trên.\n",
    "#  Bạn hãy vẽ histogram trọng lượng trái cây và tính giá trị \n",
    "# trung bình và độ lệch chuẩn trái cây từ mẫu\n",
    "import numpy as np\n",
    "import matplotlib.pyplot as plt\n",
    "\n",
    "np.random.seed(42)  # khởi tạo seed cho tính tái reproducibility\n",
    "mu, sigma = 500, 4  # trung bình và độ lệch chuẩn của phân phối chuẩn\n",
    "n = 100  # kích thước mẫu\n",
    "\n",
    "# mô phỏng lấy mẫu và vẽ histogram\n",
    "data = np.random.normal(mu, sigma, size= 2000) \n",
    "sample = np.random.choice(data, size=n)  # lấy mẫu ngẫu nhiên 20 phần tử từ 2000 điểm dữ liệu\n",
    "\n",
    "plt.hist(sample, bins=10, edgecolor='black')\n",
    "plt.xlabel(\"Trọng lượng (gam)\")\n",
    "plt.ylabel(\"Số lượng\")\n",
    "plt.title(\"Histogram trọng lượng 20 trái cây\")\n",
    "\n",
    "# tính giá trị trung bình và độ lệch chuẩn trên mẫu\n",
    "sample_mean = np.mean(sample)\n",
    "sample_std = np.std(sample, ddof=1)  # sử dụng ddof=1 để tính độ lệch chuẩn mẫu\n",
    "print(f\"Giá trị trung bình trên mẫu: {sample_mean:.2f} gam\")\n",
    "print(f\"Độ lệch chuẩn trên mẫu: {sample_std:.2f} gam\")"
   ]
  }
 ],
 "metadata": {
  "kernelspec": {
   "display_name": "Python 3.9.7 ('.env': venv)",
   "language": "python",
   "name": "python3"
  },
  "language_info": {
   "codemirror_mode": {
    "name": "ipython",
    "version": 3
   },
   "file_extension": ".py",
   "mimetype": "text/x-python",
   "name": "python",
   "nbconvert_exporter": "python",
   "pygments_lexer": "ipython3",
   "version": "3.11.1"
  },
  "vscode": {
   "interpreter": {
    "hash": "3c3b350b7397a965849e15e620eb854406cd369111cf0e87ae1f121c7288063b"
   }
  }
 },
 "nbformat": 4,
 "nbformat_minor": 4
}
