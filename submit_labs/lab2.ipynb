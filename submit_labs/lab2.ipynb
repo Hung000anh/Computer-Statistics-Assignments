{
 "cells": [
  {
   "cell_type": "markdown",
   "metadata": {},
   "source": [
    "# US Baby Name"
   ]
  },
  {
   "cell_type": "markdown",
   "metadata": {},
   "source": [
    "## GIỚI THIỆU\n",
    "Dữ Liệu `US_BaBy_Names.csv` chứa thông tin của các em bé sinh từ 2004 - 2014 tại Mỹ. Dựa vào tập dữ liệu trên, bạn hãy thực hiện các bài tập sau:"
   ]
  },
  {
   "cell_type": "markdown",
   "metadata": {},
   "source": [
    "## TÌM HIỂU DỮ LIỆU"
   ]
  },
  {
   "cell_type": "markdown",
   "metadata": {},
   "source": [
    "### 01. Đọc dữ liệu"
   ]
  },
  {
   "cell_type": "code",
   "execution_count": 2,
   "metadata": {},
   "outputs": [
    {
     "name": "stdout",
     "output_type": "stream",
     "text": [
      "         Unnamed: 0       Id     Name  Year Gender State  Count\n",
      "0             11349    11350     Emma  2004      F    AK     62\n",
      "1             11350    11351  Madison  2004      F    AK     48\n",
      "2             11351    11352   Hannah  2004      F    AK     46\n",
      "3             11352    11353    Grace  2004      F    AK     44\n",
      "4             11353    11354    Emily  2004      F    AK     41\n",
      "...             ...      ...      ...   ...    ...   ...    ...\n",
      "1016390     5647421  5647422     Seth  2014      M    WY      5\n",
      "1016391     5647422  5647423  Spencer  2014      M    WY      5\n",
      "1016392     5647423  5647424     Tyce  2014      M    WY      5\n",
      "1016393     5647424  5647425   Victor  2014      M    WY      5\n",
      "1016394     5647425  5647426   Waylon  2014      M    WY      5\n",
      "\n",
      "[1016395 rows x 7 columns]\n"
     ]
    }
   ],
   "source": [
    "import pandas as pd\n",
    "import numpy as np\n",
    "US_BABY = pd.read_csv('C:\\\\Users\\\\Hung Anh\\\\Downloads\\\\TKMT_lab_02\\\\US_Baby_Names.csv')\n",
    "print(US_BABY)"
   ]
  },
  {
   "cell_type": "markdown",
   "metadata": {},
   "source": [
    "### 02. Hiển thị 10 dòng dữ liệu bất kỳ"
   ]
  },
  {
   "cell_type": "code",
   "execution_count": 10,
   "metadata": {},
   "outputs": [
    {
     "data": {
      "text/html": [
       "<div>\n",
       "<style scoped>\n",
       "    .dataframe tbody tr th:only-of-type {\n",
       "        vertical-align: middle;\n",
       "    }\n",
       "\n",
       "    .dataframe tbody tr th {\n",
       "        vertical-align: top;\n",
       "    }\n",
       "\n",
       "    .dataframe thead th {\n",
       "        text-align: right;\n",
       "    }\n",
       "</style>\n",
       "<table border=\"1\" class=\"dataframe\">\n",
       "  <thead>\n",
       "    <tr style=\"text-align: right;\">\n",
       "      <th></th>\n",
       "      <th>Unnamed: 0</th>\n",
       "      <th>Id</th>\n",
       "      <th>Name</th>\n",
       "      <th>Year</th>\n",
       "      <th>Gender</th>\n",
       "      <th>State</th>\n",
       "      <th>Count</th>\n",
       "    </tr>\n",
       "  </thead>\n",
       "  <tbody>\n",
       "    <tr>\n",
       "      <th>394</th>\n",
       "      <td>11743</td>\n",
       "      <td>11744</td>\n",
       "      <td>Isis</td>\n",
       "      <td>2005</td>\n",
       "      <td>F</td>\n",
       "      <td>AK</td>\n",
       "      <td>5</td>\n",
       "    </tr>\n",
       "    <tr>\n",
       "      <th>383632</th>\n",
       "      <td>2062747</td>\n",
       "      <td>2062748</td>\n",
       "      <td>Allen</td>\n",
       "      <td>2011</td>\n",
       "      <td>M</td>\n",
       "      <td>KY</td>\n",
       "      <td>13</td>\n",
       "    </tr>\n",
       "    <tr>\n",
       "      <th>208453</th>\n",
       "      <td>1076538</td>\n",
       "      <td>1076539</td>\n",
       "      <td>Zenaida</td>\n",
       "      <td>2014</td>\n",
       "      <td>F</td>\n",
       "      <td>FL</td>\n",
       "      <td>6</td>\n",
       "    </tr>\n",
       "    <tr>\n",
       "      <th>155915</th>\n",
       "      <td>805960</td>\n",
       "      <td>805961</td>\n",
       "      <td>Gilbert</td>\n",
       "      <td>2010</td>\n",
       "      <td>M</td>\n",
       "      <td>CO</td>\n",
       "      <td>9</td>\n",
       "    </tr>\n",
       "    <tr>\n",
       "      <th>139582</th>\n",
       "      <td>754819</td>\n",
       "      <td>754820</td>\n",
       "      <td>Eileen</td>\n",
       "      <td>2004</td>\n",
       "      <td>F</td>\n",
       "      <td>CO</td>\n",
       "      <td>10</td>\n",
       "    </tr>\n",
       "    <tr>\n",
       "      <th>491091</th>\n",
       "      <td>2696632</td>\n",
       "      <td>2696633</td>\n",
       "      <td>Summer</td>\n",
       "      <td>2014</td>\n",
       "      <td>F</td>\n",
       "      <td>MN</td>\n",
       "      <td>28</td>\n",
       "    </tr>\n",
       "    <tr>\n",
       "      <th>579862</th>\n",
       "      <td>3262886</td>\n",
       "      <td>3262887</td>\n",
       "      <td>Zoey</td>\n",
       "      <td>2007</td>\n",
       "      <td>F</td>\n",
       "      <td>NE</td>\n",
       "      <td>27</td>\n",
       "    </tr>\n",
       "    <tr>\n",
       "      <th>104977</th>\n",
       "      <td>563040</td>\n",
       "      <td>563041</td>\n",
       "      <td>Estefani</td>\n",
       "      <td>2014</td>\n",
       "      <td>F</td>\n",
       "      <td>CA</td>\n",
       "      <td>17</td>\n",
       "    </tr>\n",
       "    <tr>\n",
       "      <th>263318</th>\n",
       "      <td>1326546</td>\n",
       "      <td>1326547</td>\n",
       "      <td>Khari</td>\n",
       "      <td>2014</td>\n",
       "      <td>M</td>\n",
       "      <td>GA</td>\n",
       "      <td>7</td>\n",
       "    </tr>\n",
       "    <tr>\n",
       "      <th>511281</th>\n",
       "      <td>2815004</td>\n",
       "      <td>2815005</td>\n",
       "      <td>Abrielle</td>\n",
       "      <td>2013</td>\n",
       "      <td>F</td>\n",
       "      <td>MO</td>\n",
       "      <td>8</td>\n",
       "    </tr>\n",
       "  </tbody>\n",
       "</table>\n",
       "</div>"
      ],
      "text/plain": [
       "        Unnamed: 0       Id      Name  Year Gender State  Count\n",
       "394          11743    11744      Isis  2005      F    AK      5\n",
       "383632     2062747  2062748     Allen  2011      M    KY     13\n",
       "208453     1076538  1076539   Zenaida  2014      F    FL      6\n",
       "155915      805960   805961   Gilbert  2010      M    CO      9\n",
       "139582      754819   754820    Eileen  2004      F    CO     10\n",
       "491091     2696632  2696633    Summer  2014      F    MN     28\n",
       "579862     3262886  3262887      Zoey  2007      F    NE     27\n",
       "104977      563040   563041  Estefani  2014      F    CA     17\n",
       "263318     1326546  1326547     Khari  2014      M    GA      7\n",
       "511281     2815004  2815005  Abrielle  2013      F    MO      8"
      ]
     },
     "execution_count": 10,
     "metadata": {},
     "output_type": "execute_result"
    }
   ],
   "source": [
    "import pandas as pd\n",
    "US_BABY.sample(10, random_state=99)"
   ]
  },
  {
   "cell_type": "markdown",
   "metadata": {},
   "source": [
    "### 03. Cho biết kích thước dữ liệu"
   ]
  },
  {
   "cell_type": "code",
   "execution_count": 11,
   "metadata": {},
   "outputs": [
    {
     "data": {
      "text/plain": [
       "(1016395, 7)"
      ]
     },
     "execution_count": 11,
     "metadata": {},
     "output_type": "execute_result"
    }
   ],
   "source": [
    "US_BABY.shape"
   ]
  },
  {
   "cell_type": "markdown",
   "metadata": {},
   "source": [
    "### 04. Xóa 2 cột 'Unnamed: 0' and 'Id'"
   ]
  },
  {
   "cell_type": "code",
   "execution_count": 13,
   "metadata": {},
   "outputs": [
    {
     "data": {
      "text/plain": [
       "Name      0\n",
       "Year      0\n",
       "Gender    0\n",
       "State     0\n",
       "Count     0\n",
       "dtype: int64"
      ]
     },
     "execution_count": 13,
     "metadata": {},
     "output_type": "execute_result"
    }
   ],
   "source": [
    "US_BABY.isna().sum()\n",
    "US_BABY = US_BABY.drop(US_BABY.columns[0],axis=1)\n",
    "US_BABY = US_BABY.drop(US_BABY.columns[0],axis=1)\n",
    "US_BABY.isna().sum()"
   ]
  },
  {
   "cell_type": "markdown",
   "metadata": {},
   "source": [
    "### 05. Cho biết số lượng bé trai, bé gái?"
   ]
  },
  {
   "cell_type": "code",
   "execution_count": 18,
   "metadata": {},
   "outputs": [
    {
     "name": "stdout",
     "output_type": "stream",
     "text": [
      "457549\n",
      "558846\n"
     ]
    },
    {
     "data": {
      "text/plain": [
       "F    558846\n",
       "M    457549\n",
       "Name: Gender, dtype: int64"
      ]
     },
     "execution_count": 18,
     "metadata": {},
     "output_type": "execute_result"
    }
   ],
   "source": [
    "# print(sum(US_BABY['Gender'] == 'M'))\n",
    "# print(sum(US_BABY['Gender'] == 'F'))\n",
    "US_BABY['Gender'].value_counts()"
   ]
  },
  {
   "cell_type": "markdown",
   "metadata": {},
   "source": [
    "### 06. Trong bộ dữ liệu có bao nhiêu tên khác nhau?"
   ]
  },
  {
   "cell_type": "code",
   "execution_count": 33,
   "metadata": {},
   "outputs": [
    {
     "name": "stdout",
     "output_type": "stream",
     "text": [
      "cách 1: 17632\n",
      "\n",
      "Cách 2:\n",
      "\n",
      "Riley      1112\n",
      "Avery      1080\n",
      "Jordan     1073\n",
      "Peyton     1064\n",
      "Hayden     1049\n",
      "           ... \n",
      "Terryn        1\n",
      "Yanna         1\n",
      "Zemirah       1\n",
      "Emmilyn       1\n",
      "Coalton       1\n",
      "Name: Name, Length: 17632, dtype: int64\n"
     ]
    }
   ],
   "source": [
    "#cách 1\n",
    "df = US_BABY['Name'].unique(); #lấy những cái tên duy nhất bằng unique\n",
    "df_len = len(df) #lấy số lượng tên khác nhau\n",
    "print(\"cách 1: \" + str(df_len),end=\"\\n\\n\") #xuất số lượng tên khác nhau\n",
    "#cách 2\n",
    "# df2 = US_BABY['Name'].value_counts() #lấy số lượng tên người xuất hiện\n",
    "# print(\"Cách 2:\",end=\"\\n\\n\")\n",
    "# print(df2)"
   ]
  },
  {
   "cell_type": "markdown",
   "metadata": {},
   "source": [
    "### 07. Tên nào xuất hiện ít nhất?"
   ]
  },
  {
   "cell_type": "code",
   "execution_count": 17,
   "metadata": {},
   "outputs": [
    {
     "data": {
      "text/plain": [
       "Terryn     1\n",
       "Yanna      1\n",
       "Zemirah    1\n",
       "Emmilyn    1\n",
       "Coalton    1\n",
       "Name: Name, dtype: int64"
      ]
     },
     "execution_count": 17,
     "metadata": {},
     "output_type": "execute_result"
    }
   ],
   "source": [
    "df = US_BABY['Name'].value_counts() #lấy số lượng tên người xuất hiện\n",
    "df.tail()"
   ]
  },
  {
   "cell_type": "markdown",
   "metadata": {},
   "source": [
    "### 08. Top 10 tên được sử dụng nhiều nhất?"
   ]
  },
  {
   "cell_type": "code",
   "execution_count": 34,
   "metadata": {},
   "outputs": [
    {
     "data": {
      "text/plain": [
       "Riley     1112\n",
       "Avery     1080\n",
       "Jordan    1073\n",
       "Peyton    1064\n",
       "Hayden    1049\n",
       "Taylor    1033\n",
       "Jayden    1031\n",
       "Alexis     984\n",
       "Payton     971\n",
       "Dakota     962\n",
       "Name: Name, dtype: int64"
      ]
     },
     "execution_count": 34,
     "metadata": {},
     "output_type": "execute_result"
    }
   ],
   "source": [
    "df = US_BABY['Name'].value_counts()\n",
    "df.head(10)"
   ]
  },
  {
   "cell_type": "markdown",
   "metadata": {},
   "source": [
    "## TRỰC QUAN DỮ LIỆU"
   ]
  },
  {
   "cell_type": "markdown",
   "metadata": {},
   "source": [
    "### 09. Vẽ đồ thị top 10 tên xuất hiện nhiều nhất năm 2014"
   ]
  },
  {
   "cell_type": "code",
   "execution_count": 4,
   "metadata": {},
   "outputs": [
    {
     "data": {
      "image/png": "[encoded data removed]",
      "text/plain": [
       "<Figure size 640x480 with 1 Axes>"
      ]
     },
     "metadata": {},
     "output_type": "display_data"
    }
   ],
   "source": [
    "import pandas as pd\n",
    "import matplotlib.pyplot as plt\n",
    "# Lấy dữ liệu từ us_baby ở nhưng hàng có năm là 2014\n",
    "df_2014 = US_BABY[US_BABY['Year'] == 2014]\n",
    "# Nhóm dữ liệu theo tên, đếm số lần xuất hiện của mỗi tên trong năm 2014\n",
    "name_counts = df_2014['Name'].value_counts()\n",
    "# Lấy top 10 tên xuất hiện nhiều nhất trong năm 2014\n",
    "top_10_names = name_counts[:10]\n",
    "plt.bar(top_10_names.index, top_10_names.values)\n",
    "plt.xlabel('Tên')\n",
    "plt.ylabel('Số lần xuất hiện')\n",
    "plt.title('Top 10 tên xuất hiện nhiều nhất năm 2014')\n",
    "plt.show()"
   ]
  },
  {
   "cell_type": "markdown",
   "metadata": {},
   "source": [
    "### 10. Vẽ đồ thị thể hiện tỷ lệ nam nữ qua các năm 2004-2014"
   ]
  },
  {
   "cell_type": "code",
   "execution_count": 1,
   "metadata": {},
   "outputs": [
    {
     "data": {
      "image/png": "[encoded data removed]",
      "text/plain": [
       "<Figure size 640x480 with 1 Axes>"
      ]
     },
     "metadata": {},
     "output_type": "display_data"
    }
   ],
   "source": [
    "\n",
    "import pandas as pd\n",
    "import matplotlib.pyplot as plt\n",
    "import numpy as np\n",
    "\n",
    "US_BABY = pd.read_csv('C:\\\\Users\\\\Hung Anh\\\\Downloads\\\\TKMT_lab_02\\\\US_Baby_Names.csv')\n",
    "#lọc dữ liệu từ 2004 đến 2014\n",
    "df_filtered = US_BABY.loc[(US_BABY['Year'] >= 2004) & (US_BABY['Year'] <= 2014)]\n",
    "#gom nhóm dữ liệu gồm có year và gender \n",
    "grouped = df_filtered.groupby(['Year', 'Gender']).size()\n",
    "#xoay ngược bảng\n",
    "grouped = grouped.unstack()\n",
    "#chia tỉ lệ nam nữ\n",
    "male_female_ratio = grouped['M'] / grouped['F']\n",
    "\n",
    "plt.bar(male_female_ratio.index, male_female_ratio.values)\n",
    "plt.title('Male-to-Female Ratio (2004-2014)')\n",
    "plt.xlabel('Year')\n",
    "plt.ylabel('Male-to-Female Ratio')\n",
    "plt.show()"
   ]
  }
 ],
 "metadata": {
  "kernelspec": {
   "display_name": "Python 3",
   "language": "python",
   "name": "python3"
  },
  "language_info": {
   "codemirror_mode": {
    "name": "ipython",
    "version": 3
   },
   "file_extension": ".py",
   "mimetype": "text/x-python",
   "name": "python",
   "nbconvert_exporter": "python",
   "pygments_lexer": "ipython3",
   "version": "3.11.1"
  },
  "vscode": {
   "interpreter": {
    "hash": "aaa0715222ad293bfd6df5e8dd802986f53613088ef851178737572d727393fc"
   }
  }
 },
 "nbformat": 4,
 "nbformat_minor": 4
}
