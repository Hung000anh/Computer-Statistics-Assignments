{
 "cells": [
  {
   "cell_type": "markdown",
   "metadata": {},
   "source": [
    "# BÀI TẬP ƯỚC LƯỢNG"
   ]
  },
  {
   "cell_type": "markdown",
   "metadata": {},
   "source": [
    "## <u>Bài 1</u>"
   ]
  },
  {
   "cell_type": "markdown",
   "metadata": {},
   "source": [
    "Green M&M Candies liên quan đến Dataset 18 trong file excel. Tìm tỉ lệ mẫu của M&M có màu xanh lá cây (green). Sử dụng kết quả để xây dựng 1 ước lượng khoảng tin cậy 95% của % quần thể M&M có màu xanh."
   ]
  },
  {
   "cell_type": "code",
   "execution_count": 1,
   "metadata": {
    "jupyter": {
     "outputs_hidden": true
    }
   },
   "outputs": [],
   "source": [
    "import numpy as np\n",
    "import pandas as pd"
   ]
  },
  {
   "cell_type": "code",
   "execution_count": 4,
   "metadata": {
    "jupyter": {
     "outputs_hidden": true
    }
   },
   "outputs": [
    {
     "name": "stdout",
     "output_type": "stream",
     "text": [
      "      Red  Orange  Yellow  Brown   Blue  Green\n",
      "0   0.751   0.735   0.883  0.696  0.881  0.925\n",
      "1   0.841   0.895   0.769  0.876  0.863  0.914\n",
      "2   0.856   0.865   0.859  0.855  0.775  0.881\n",
      "3   0.799   0.864   0.784  0.806  0.854  0.865\n",
      "4   0.966   0.852   0.824  0.840  0.810  0.865\n",
      "5   0.859   0.866   0.858  0.868  0.858  1.015\n",
      "6   0.857   0.859   0.848  0.859  0.818  0.876\n",
      "7   0.942   0.838   0.851  0.982  0.868  0.809\n",
      "8   0.873   0.863     NaN    NaN  0.803  0.865\n",
      "9   0.809   0.888     NaN    NaN  0.932  0.848\n",
      "10  0.890   0.925     NaN    NaN  0.842  0.940\n",
      "11  0.878   0.793     NaN    NaN  0.832  0.833\n",
      "12  0.905   0.977     NaN    NaN  0.807  0.845\n",
      "13    NaN   0.850     NaN    NaN  0.841  0.852\n",
      "14    NaN   0.830     NaN    NaN  0.932  0.778\n",
      "15    NaN   0.856     NaN    NaN  0.833  0.814\n",
      "16    NaN   0.842     NaN    NaN  0.881  0.791\n",
      "17    NaN   0.778     NaN    NaN  0.818  0.810\n",
      "18    NaN   0.786     NaN    NaN  0.864  0.881\n",
      "19    NaN   0.853     NaN    NaN  0.825    NaN\n",
      "20    NaN   0.864     NaN    NaN  0.855    NaN\n",
      "21    NaN   0.873     NaN    NaN  0.942    NaN\n",
      "22    NaN   0.880     NaN    NaN  0.825    NaN\n",
      "23    NaN   0.882     NaN    NaN  0.869    NaN\n",
      "24    NaN   0.931     NaN    NaN  0.912    NaN\n",
      "25    NaN     NaN     NaN    NaN  0.887    NaN\n",
      "26    NaN     NaN     NaN    NaN  0.886    NaN\n"
     ]
    }
   ],
   "source": [
    "df = pd.read_excel('C:\\\\Users\\\\Hung Anh\\\\Downloads\\\\BtthTKMTVUD\\\\TKMT_lab_06\\\\TKMT_lab_06\\\\data\\\\18_M_M.xls')\n",
    "print(df)"
   ]
  },
  {
   "cell_type": "code",
   "execution_count": 6,
   "metadata": {},
   "outputs": [
    {
     "name": "stdout",
     "output_type": "stream",
     "text": [
      "Trung bình mẫu: 0.856\n",
      "Sai số chuẩn mẫu: 0.008\n",
      "Khoảng tin cậy 95%: (0.840, 0.872)\n"
     ]
    }
   ],
   "source": [
    "from scipy.stats import norm\n",
    "# Tính trung bình mẫu và sai số chuẩn mẫu\n",
    "x_bar = df['Blue'].mean()\n",
    "s = df['Blue'].std(ddof=1)\n",
    "n = df['Blue'].count()\n",
    "se = s / np.sqrt(n)\n",
    "\n",
    "# Tính khoảng tin cậy 95% \n",
    "# thì ampha sẽ là 0.5 -> z(ampa/2) = 1.96 -> z-score sẽ là 0.975\n",
    "# Khoảng tin cậy lower-upper \n",
    "z = norm.ppf(0.975)\n",
    "lower = x_bar - z * se\n",
    "upper = x_bar + z * se\n",
    "\n",
    "# In ra kết quả\n",
    "print(\"Trung bình mẫu: {:.3f}\".format(x_bar))\n",
    "print(\"Sai số chuẩn mẫu: {:.3f}\".format(se))\n",
    "print(\"Khoảng tin cậy 95%: ({:.3f}, {:.3f})\".format(lower, upper))"
   ]
  },
  {
   "cell_type": "markdown",
   "metadata": {},
   "source": [
    "## <u>Bài 2</u>"
   ]
  },
  {
   "cell_type": "markdown",
   "metadata": {},
   "source": [
    "Freshman Weight Gain liên quan đến Dataset 3 trong file excel\n",
    "\n",
    "a. Dựa vào kết quả của mẫu, tìm ước lượng điểm tốt nhất của tỉ lệ phần trăm các sinh viên cao đẳng tăng cân trong năm thứ 1.\n",
    "\n",
    "b. Xây dựng ước lượng khoảng tin cậy 95% về tỉ lệ phần trăm các sinh viên cao đẳng tăng cân trong năm thứ 1.\n"
   ]
  },
  {
   "cell_type": "code",
   "execution_count": 2,
   "metadata": {
    "collapsed": true,
    "jupyter": {
     "outputs_hidden": true
    }
   },
   "outputs": [
    {
     "name": "stdout",
     "output_type": "stream",
     "text": [
      "   SEX  WTSEP  WTAPR  BMISP  BMIAP\n",
      "0    M     72     59  22.02  18.14\n",
      "1    M     97     86  19.70  17.44\n",
      "2    M     74     69  24.09  22.43\n",
      "3    M     93     88  26.97  25.57\n",
      "4    F     68     64  21.51  20.10\n",
      "..  ..    ...    ...    ...    ...\n",
      "62   M     65     71  22.51  24.45\n",
      "63   M     75     82  23.69  25.80\n",
      "64   F     42     49  15.08  17.74\n",
      "65   M     74     82  22.64  25.33\n",
      "66   M     94    105  36.57  40.86\n",
      "\n",
      "[67 rows x 5 columns]\n"
     ]
    }
   ],
   "source": [
    "import numpy as np\n",
    "import pandas as pd\n",
    "df = pd.read_excel('C:\\\\Users\\\\Hung Anh\\\\Downloads\\\\BtthTKMTVUD\\\\TKMT_lab_06\\\\TKMT_lab_06\\\\data\\\\03_FRESH15.xls')\n",
    "print(df)"
   ]
  },
  {
   "cell_type": "code",
   "execution_count": 3,
   "metadata": {},
   "outputs": [
    {
     "name": "stdout",
     "output_type": "stream",
     "text": [
      "Tỉ lệ phần trăm các sinh viên cao đẳng tăng cân trong năm thứ 1: 67.16%\n",
      "Ước lượng điểm tốt nhất của tỉ lệ này: 67.16%\n"
     ]
    }
   ],
   "source": [
    "# WTSEP: Tên viết tắt của Weight in September, tức cân nặng vào tháng 9\n",
    "# WTAPR: Tên viết tắt của Weight in April, tức cân nặng vào tháng 4\n",
    "# BMISP: Tên viết tắt của BMI in September, tức chỉ số khối cơ thể vào tháng 9\n",
    "# BMIAP: Tên viết tắt của BMI in April, tức chỉ số khối cơ thể vào tháng 4.\n",
    "# # tính tỉ lệ phần trăm các sinh viên cao đẳng tăng cân trong năm thứ 1\n",
    "\n",
    "# a. Dựa vào kết quả của mẫu, tìm ước lượng điểm tốt nhất của tỉ lệ phần trăm các sinh viên cao đẳng tăng cân trong năm thứ 1.\n",
    "\n",
    "num_gain_weight = df[df['WTAPR'] > df['WTSEP']].shape[0]\n",
    "total_students = df.shape[0]\n",
    "percentage_gain_weight = num_gain_weight / total_students * 100\n",
    "\n",
    "# ước lượng điểm tốt nhất của tỉ lệ phần trăm các sinh viên cao đẳng tăng cân trong năm thứ 1\n",
    "best_point_estimate = percentage_gain_weight\n",
    "\n",
    "print('Tỉ lệ phần trăm các sinh viên cao đẳng tăng cân trong năm thứ 1: {:.2f}%'.format(percentage_gain_weight))\n",
    "print('Ước lượng điểm tốt nhất của tỉ lệ này: {:.2f}%'.format(best_point_estimate))"
   ]
  },
  {
   "cell_type": "code",
   "execution_count": 5,
   "metadata": {},
   "outputs": [
    {
     "name": "stdout",
     "output_type": "stream",
     "text": [
      "Tỉ lệ phần trăm sinh viên tăng cân: 0.7313432835820896\n",
      "Cách 1: \n",
      "Khoảng tin cậy 95%: (0.6142895970610122, 0.8226569416274643)\n"
     ]
    }
   ],
   "source": [
    "from scipy.stats import beta\n",
    "# Tính tỉ lệ phần trăm sinh viên tăng cân\n",
    "num_students_gain_weight = df.loc[df['BMISP'] < df['BMIAP']].shape[0]\n",
    "total_students = df.shape[0]\n",
    "p_hat = num_students_gain_weight / total_students\n",
    "\n",
    "print('Tỉ lệ phần trăm sinh viên tăng cân:', p_hat)\n",
    "\n",
    "# Tính khoảng tin cậy 95% sử dụng phương pháp Clopper-Pearson\n",
    "alpha = 0.05\n",
    "ci = beta.interval(1-alpha, num_students_gain_weight+1, total_students-num_students_gain_weight+1)\n",
    "print('Cách 1: ')\n",
    "print('Khoảng tin cậy 95%:', ci) \n",
    "\n"
   ]
  },
  {
   "cell_type": "markdown",
   "metadata": {},
   "source": [
    "## <u>Bài 3</u>"
   ]
  },
  {
   "cell_type": "markdown",
   "metadata": {},
   "source": [
    "Lượng mưa ở Boston: liên quan đến Dataset 14 trong file excel, và quan tâm đến các ngày với các giá trị lượng mưa khác nhau từ 0 đến các ngày có mưa có giá trị lượng mưa lớn hơn 0. Xây dựng ước lượng khoảng tin cậy 95% cho tỉ lệ mưa trong các ngày Thứ Tư và xây dựng ước lượng khoảng tin cậy 95% cho tỉ lệ mưa trong các ngày Chủ Nhật."
   ]
  },
  {
   "cell_type": "code",
   "execution_count": 6,
   "metadata": {
    "collapsed": true,
    "jupyter": {
     "outputs_hidden": true
    }
   },
   "outputs": [
    {
     "name": "stdout",
     "output_type": "stream",
     "text": [
      "     MON  TUES   WED  THURS   FRI   SAT   SUN\n",
      "0   0.00  0.00  0.00   0.04  0.04  0.00  0.05\n",
      "1   0.00  0.00  0.00   0.06  0.03  0.10  0.00\n",
      "2   0.00  0.00  0.00   0.71  0.00  0.00  0.00\n",
      "3   0.00  0.44  0.14   0.04  0.04  0.64  0.00\n",
      "4   0.05  0.00  0.00   0.00  0.01  0.05  0.00\n",
      "5   0.00  0.00  0.64   0.00  0.00  0.00  0.00\n",
      "6   0.01  0.00  0.00   0.00  0.30  0.05  0.00\n",
      "7   0.00  0.00  0.01   0.00  0.00  0.00  0.00\n",
      "8   0.00  0.01  0.01   0.16  0.00  0.00  0.09\n",
      "9   0.12  0.06  0.18   0.39  0.00  0.10  0.00\n",
      "10  0.00  0.00  0.00   0.00  0.78  0.49  0.00\n",
      "11  0.00  0.02  0.00   0.00  0.01  0.17  0.00\n",
      "12  1.41  0.65  0.31   0.00  0.00  0.54  0.00\n",
      "13  0.00  0.00  0.00   0.00  0.00  0.00  0.00\n",
      "14  0.00  0.00  0.00   0.00  0.00  0.40  0.28\n",
      "15  0.00  0.00  0.00   0.30  0.87  0.49  0.00\n",
      "16  0.47  0.00  0.00   0.00  0.00  0.00  0.00\n",
      "17  0.00  0.09  0.00   0.24  0.00  0.05  0.00\n",
      "18  0.00  0.14  0.00   0.00  0.04  0.07  0.00\n",
      "19  0.92  0.36  0.02   0.09  0.27  0.00  0.00\n",
      "20  0.01  0.00  0.06   0.00  0.00  0.00  0.27\n",
      "21  0.01  0.00  0.00   0.00  0.00  0.00  0.01\n",
      "22  0.00  0.00  0.00   0.00  0.00  0.00  0.00\n",
      "23  0.00  0.00  0.00   0.00  0.71  0.00  0.00\n",
      "24  0.00  0.00  0.27   0.08  0.00  0.00  0.33\n",
      "25  0.00  0.00  0.00   0.00  0.00  0.00  0.00\n",
      "26  0.03  0.00  0.08   0.14  0.00  0.00  0.00\n",
      "27  0.00  0.11  0.06   0.02  0.00  0.00  0.00\n",
      "28  0.01  0.05  0.00   0.01  0.00  0.00  0.00\n",
      "29  0.00  0.00  0.00   0.00  0.12  0.00  0.00\n",
      "30  0.11  0.03  0.00   0.00  0.00  0.00  0.44\n",
      "31  0.01  0.01  0.00   0.00  0.11  0.18  0.00\n",
      "32  0.49  0.00  0.64   0.01  0.00  0.00  0.01\n",
      "33  0.00  0.00  0.08   0.85  0.01  0.00  0.00\n",
      "34  0.01  0.02  0.00   0.00  0.03  0.00  0.00\n",
      "35  0.00  0.00  0.12   0.00  0.00  0.00  0.00\n",
      "36  0.00  0.00  0.01   0.04  0.26  0.04  0.00\n",
      "37  0.00  0.00  0.00   0.00  0.00  0.40  0.00\n",
      "38  0.12  0.00  0.00   0.00  0.00  0.00  0.00\n",
      "39  0.00  0.00  0.00   0.00  0.24  0.00  0.23\n",
      "40  0.00  0.00  0.00   0.02  0.00  0.00  0.00\n",
      "41  0.00  0.00  0.00   0.02  0.00  0.00  0.00\n",
      "42  0.59  0.00  0.00   0.00  0.00  0.68  0.00\n",
      "43  0.00  0.01  0.00   0.00  0.00  1.48  0.21\n",
      "44  0.01  0.00  0.00   0.00  0.05  0.69  1.28\n",
      "45  0.00  0.00  0.00   0.00  0.96  0.00  0.01\n",
      "46  0.00  0.00  0.00   0.00  0.00  0.79  0.02\n",
      "47  0.41  0.00  0.06   0.01  0.00  0.00  0.28\n",
      "48  0.00  0.00  0.00   0.08  0.04  0.00  0.00\n",
      "49  0.00  0.00  0.00   0.00  0.00  0.00  0.00\n",
      "50  0.00  0.74  0.00   0.00  0.00  0.00  0.00\n",
      "51  0.43  0.30  0.00   0.26  0.00  0.02  0.01\n",
      "52   NaN   NaN  0.00    NaN   NaN   NaN   NaN\n"
     ]
    }
   ],
   "source": [
    "import numpy as np\n",
    "import pandas as pd\n",
    "df = pd.read_excel('C:\\\\Users\\\\Hung Anh\\\\Downloads\\\\BtthTKMTVUD\\\\TKMT_lab_06\\\\TKMT_lab_06\\\\data\\\\14_BOSTRAIN.xls')\n",
    "print(df)"
   ]
  },
  {
   "cell_type": "markdown",
   "metadata": {},
   "source": [
    "## <u>Bài 4</u>"
   ]
  },
  {
   "cell_type": "markdown",
   "metadata": {},
   "source": [
    "Tổng số tiền phim: liên quan đến Dataset 9 trong file excel. Xây dựng ước tính khoảng thời gian tin cậy 95% của tổng số tiền trung bình cho quần thể của tất cả các phim. Giả định rằng độ lệch chuẩn của quần thể được biết là 100 triệu đô la. "
   ]
  },
  {
   "cell_type": "code",
   "execution_count": 7,
   "metadata": {
    "collapsed": true,
    "jupyter": {
     "outputs_hidden": true
    }
   },
   "outputs": [
    {
     "name": "stdout",
     "output_type": "stream",
     "text": [
      "95% Confidence interval for Wednesday: (0.0, 0.11192941435827049)\n",
      "95% Confidence interval for Sunday: (0.0, 0.1359726536480215)\n"
     ]
    }
   ],
   "source": [
    "import numpy as np\n",
    "import pandas as pd\n",
    "from statsmodels.stats.proportion import proportion_confint\n",
    "\n",
    "df = pd.read_excel('C:\\\\Users\\\\Hung Anh\\\\Downloads\\\\BtthTKMTVUD\\\\TKMT_lab_06\\\\TKMT_lab_06\\\\data\\\\14_BOSTRAIN.xls')\n",
    "\n",
    "# Loại bỏ các giá trị NaN (vì pp wiston không tính NaN)\n",
    "df = df.dropna()\n",
    "\n",
    "# Tính tỉ lệ mưa trong các ngày Thứ Tư và Chủ Nhật\n",
    "wed_rain_prop = df['WED'].mean()\n",
    "sun_rain_prop = df['SUN'].mean()\n",
    "\n",
    "# Xây dựng khoảng tin cậy 95% cho tỉ lệ mưa trong các ngày Thứ Tư và Chủ Nhật\n",
    "wed_ci = proportion_confint(wed_rain_prop * len(df), len(df))\n",
    "sun_ci = proportion_confint(sun_rain_prop * len(df), len(df))\n",
    "\n",
    "print('95% Confidence interval for Wednesday:', wed_ci)\n",
    "print('95% Confidence interval for Sunday:', sun_ci)"
   ]
  },
  {
   "cell_type": "markdown",
   "metadata": {},
   "source": [
    "## <u>Bài 5</u>"
   ]
  },
  {
   "cell_type": "markdown",
   "metadata": {},
   "source": [
    "Điểm đánh giá tín dụng FICO: liên quan đến Dataset 24 trong file excel. Xây dựng ước lượng khoảng tin cậy 99% của điểm FICO trung bình cho quần thể. Giả sử độ lệch chuẩn của quần thể là 92,2."
   ]
  },
  {
   "cell_type": "code",
   "execution_count": 11,
   "metadata": {
    "tags": []
   },
   "outputs": [
    {
     "name": "stdout",
     "output_type": "stream",
     "text": [
      "    708\n",
      "0   713\n",
      "1   781\n",
      "2   809\n",
      "3   797\n",
      "4   793\n",
      "..  ...\n",
      "94  796\n",
      "95  611\n",
      "96  709\n",
      "97  697\n",
      "98  732\n",
      "\n",
      "[99 rows x 1 columns]\n"
     ]
    }
   ],
   "source": [
    "import numpy as np\n",
    "import math\n",
    "import pandas as pd\n",
    "from statsmodels.stats.proportion import proportion_confint\n",
    "\n",
    "data = pd.read_excel('C:\\\\Users\\\\Hung Anh\\\\Downloads\\\\BtthTKMTVUD\\\\TKMT_lab_06\\\\TKMT_lab_06\\\\data\\\\24_FICO.xls')\n",
    "print(data)"
   ]
  },
  {
   "cell_type": "code",
   "execution_count": 13,
   "metadata": {},
   "outputs": [
    {
     "name": "stdout",
     "output_type": "stream",
     "text": [
      "Giá trị trung bình mẫu:  7.151515151515151\n",
      "Giá trị đỉnh khoảng tin cậy:  23.870371739633274\n",
      "Khoảng tin cậy 99%: [-16.72, 31.02]\n"
     ]
    }
   ],
   "source": [
    "mean = sum(data) / len(data)\n",
    "\n",
    "# Tính giá trị đỉnh của khoảng tin cậy\n",
    "z = 2.576\n",
    "std_dev = 92.2\n",
    "n = len(data)\n",
    "se = std_dev / math.sqrt(n)\n",
    "confidence_interval = z * se\n",
    "\n",
    "# Tính khoảng tin cậy\n",
    "lower_bound = mean - confidence_interval\n",
    "upper_bound = mean + confidence_interval\n",
    "\n",
    "print(\"Giá trị trung bình mẫu: \", mean)\n",
    "print(\"Giá trị đỉnh khoảng tin cậy: \", confidence_interval)\n",
    "print(\"Khoảng tin cậy 99%: [{:.2f}, {:.2f}]\".format(lower_bound, upper_bound))"
   ]
  }
 ],
 "metadata": {
  "kernelspec": {
   "display_name": "Python 3 (ipykernel)",
   "language": "python",
   "name": "python3"
  },
  "language_info": {
   "codemirror_mode": {
    "name": "ipython",
    "version": 3
   },
   "file_extension": ".py",
   "mimetype": "text/x-python",
   "name": "python",
   "nbconvert_exporter": "python",
   "pygments_lexer": "ipython3",
   "version": "3.11.2"
  }
 },
 "nbformat": 4,
 "nbformat_minor": 4
}
